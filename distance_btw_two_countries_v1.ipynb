{
 "cells": [
  {
   "cell_type": "code",
   "execution_count": 198,
   "id": "8c0b65bb",
   "metadata": {},
   "outputs": [],
   "source": [
    "from math import radians, cos, sin, asin, sqrt\n",
    "import requests\n",
    "import bs4\n",
    "import re\n",
    "res=requests.get('https://developers.google.com/public-data/docs/canonical/countries_csv')\n",
    "soup=bs4.BeautifulSoup(res.text,'lxml')\n",
    "global lat1,lon1,lat2,lon2"
   ]
  },
  {
   "cell_type": "code",
   "execution_count": 199,
   "id": "09687a49",
   "metadata": {},
   "outputs": [],
   "source": [
    "def distance(lat1,lat2,lon1,lon2):\n",
    "    lon1=radians(lon1)\n",
    "    lon2=radians(lon2)\n",
    "    lat1=radians(lat1)\n",
    "    lat2=radians(lat2)\n",
    "    \n",
    "    dlon = lon2 - lon1\n",
    "    dlat = lat2 - lat1\n",
    "    a=sin(dlat/2)**2+cos(lat1)*cos(lat2)*sin(dlon/2)**2\n",
    "    \n",
    "    c=2*asin(sqrt(a))\n",
    "    \n",
    "    r=6371\n",
    "    \n",
    "    return(round((c*r),2))\n",
    "\n",
    "def flight_time(dist):\n",
    "    average_speed=835\n",
    "    seconds=3600*(dist/average_speed)\n",
    "    hours=seconds//3600\n",
    "    seconds%=3600\n",
    "    minutes=seconds//60\n",
    "    flight_time_str=f'{round(hours)}h {round(minutes)}m'\n",
    "    \n",
    "    return(flight_time_str)\n",
    "\n",
    "\n",
    "def contries_coordinates():\n",
    "    cities=[]\n",
    "    for line in soup.select('tr'):\n",
    "        cities.append(line.text.split('\\n'))\n",
    "    for line in cities:\n",
    "        line.pop(0)\n",
    "        line.pop(4)\n",
    "        \n",
    "def get_check_names():\n",
    "    contries_coordinates()\n",
    "    going_1=True\n",
    "    while going_1:\n",
    "        con1=input('Enter the 1st country: ')\n",
    "        for i in cities:\n",
    "            if con1==i[3]:\n",
    "                lat1=float(i[1])\n",
    "                lon1=float(i[2])\n",
    "                going_1=False\n",
    "        if going_1:\n",
    "            print('Please, provide correct name')\n",
    "\n",
    "    going_2=True\n",
    "    while going_2:\n",
    "        con2=input('Enter the 2nd country: ')\n",
    "        for i in cities:\n",
    "            if con2==i[3]:\n",
    "                lat2=float(i[1])\n",
    "                lon2=float(i[2])\n",
    "                going_2=False\n",
    "        if going_2:\n",
    "            print('Please, provide correct name')"
   ]
  },
  {
   "cell_type": "code",
   "execution_count": 200,
   "id": "53322a17",
   "metadata": {},
   "outputs": [
    {
     "name": "stdout",
     "output_type": "stream",
     "text": [
      "Enter the 1st country: Pakistan\n",
      "Enter the 2nd country: Canada\n",
      "------------------------------------------\n",
      "Distance between countries centers: 3096.91 km\n",
      "-----------------------------\n",
      "Estimated flight time (with average airplane speed of 835 km/h): 3h 42m\n"
     ]
    }
   ],
   "source": [
    "#call the funcs\n",
    "\n",
    "\n",
    "get_check_names()\n",
    "dist_km=distance(lat1, lat2, lon1, lon2)\n",
    "est_flight=flight_time(dist_km)\n",
    "\n",
    "print('------------------------------------------')\n",
    "print(f'Distance between countries centers: {dist_km} km')\n",
    "print('-----------------------------')\n",
    "print(f'Estimated flight time (appr. 835 km/h): {est_flight}')"
   ]
  },
  {
   "cell_type": "code",
   "execution_count": null,
   "id": "17c9279e",
   "metadata": {},
   "outputs": [],
   "source": []
  }
 ],
 "metadata": {
  "kernelspec": {
   "display_name": "Python 3 (ipykernel)",
   "language": "python",
   "name": "python3"
  },
  "language_info": {
   "codemirror_mode": {
    "name": "ipython",
    "version": 3
   },
   "file_extension": ".py",
   "mimetype": "text/x-python",
   "name": "python",
   "nbconvert_exporter": "python",
   "pygments_lexer": "ipython3",
   "version": "3.9.12"
  }
 },
 "nbformat": 4,
 "nbformat_minor": 5
}
